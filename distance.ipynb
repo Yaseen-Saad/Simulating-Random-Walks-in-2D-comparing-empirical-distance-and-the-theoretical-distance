{
 "cells": [
  {
   "cell_type": "code",
   "execution_count": 1,
   "metadata": {},
   "outputs": [],
   "source": [
    "import numpy as np\n",
    "import matplotlib.pyplot as plt"
   ]
  },
  {
   "cell_type": "code",
   "execution_count": 2,
   "metadata": {},
   "outputs": [],
   "source": [
    "step_sizes = [100, 500, 1000, 5000]\n",
    "num_walks = 1000\n",
    "average_distances = []\n",
    "theoretical_distances = []"
   ]
  },
  {
   "cell_type": "code",
   "execution_count": null,
   "metadata": {},
   "outputs": [],
   "source": [
    "for N in step_sizes:\n",
    "    distances = []\n",
    "    for _ in range(num_walks):\n",
    "        steps_x = np.random.choice([-1, 1], size=N)\n",
    "        steps_y = np.random.choice([-1, 1], size=N)\n",
    "        \n",
    "        x_final = np.sum(steps_x)\n",
    "        y_final = np.sum(steps_y)\n",
    "        \n",
    "        distance = np.sqrt(x_final**2 + y_final**2)\n",
    "        distances.append(distance)\n",
    "    \n",
    "    avg_distance = np.mean(distances)\n",
    "    average_distances.append(avg_distance)\n",
    "    \n",
    "    theoretical_distance = np.sqrt(N)\n",
    "    theoretical_distances.append(theoretical_distance)"
   ]
  },
  {
   "cell_type": "code",
   "execution_count": null,
   "metadata": {},
   "outputs": [],
   "source": [
    "plt.figure(figsize=(10, 6))\n",
    "plt.plot(step_sizes, average_distances, 'o-', label='Empirical Average Distance')\n",
    "plt.plot(step_sizes, theoretical_distances, 's-', label='Theoretical Distance (√N)')\n",
    "plt.xlabel('Number of Steps (N)')\n",
    "plt.ylabel('Distance from Origin')\n",
    "plt.title('Empirical vs. Theoretical Distance in 2D Random Walks')\n",
    "plt.legend()\n",
    "plt.grid(True)\n",
    "plt.show()"
   ]
  }
 ],
 "metadata": {
  "kernelspec": {
   "display_name": "Python 3",
   "language": "python",
   "name": "python3"
  },
  "language_info": {
   "codemirror_mode": {
    "name": "ipython",
    "version": 3
   },
   "file_extension": ".py",
   "mimetype": "text/x-python",
   "name": "python",
   "nbconvert_exporter": "python",
   "pygments_lexer": "ipython3",
   "version": "3.12.5"
  }
 },
 "nbformat": 4,
 "nbformat_minor": 2
}
